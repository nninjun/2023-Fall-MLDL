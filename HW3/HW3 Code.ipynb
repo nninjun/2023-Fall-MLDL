{
 "cells": [
  {
   "cell_type": "markdown",
   "metadata": {},
   "source": [
    "## READ ME\n",
    "\n",
    "Name: Kim, Minjun\n",
    "\n",
    "Student ID: 20195024\n",
    "\n",
    "Instructions: Please run the cells one by one. This is because the variable used in the previous cell is also used in the later cell."
   ]
  },
  {
   "cell_type": "markdown",
   "metadata": {},
   "source": [
    "***\n",
    "***\n",
    "### **Q7**"
   ]
  },
  {
   "cell_type": "code",
   "execution_count": 2,
   "metadata": {},
   "outputs": [],
   "source": [
    "import numpy as np\n",
    "from ISLP import load_data\n",
    "from ISLP.models import (ModelSpec as MS, summarize, poly)"
   ]
  },
  {
   "cell_type": "code",
   "execution_count": 3,
   "metadata": {},
   "outputs": [
    {
     "data": {
      "text/html": [
       "<div>\n",
       "<style scoped>\n",
       "    .dataframe tbody tr th:only-of-type {\n",
       "        vertical-align: middle;\n",
       "    }\n",
       "\n",
       "    .dataframe tbody tr th {\n",
       "        vertical-align: top;\n",
       "    }\n",
       "\n",
       "    .dataframe thead th {\n",
       "        text-align: right;\n",
       "    }\n",
       "</style>\n",
       "<table border=\"1\" class=\"dataframe\">\n",
       "  <thead>\n",
       "    <tr style=\"text-align: right;\">\n",
       "      <th></th>\n",
       "      <th>crim</th>\n",
       "      <th>zn</th>\n",
       "      <th>indus</th>\n",
       "      <th>chas</th>\n",
       "      <th>nox</th>\n",
       "      <th>rm</th>\n",
       "      <th>age</th>\n",
       "      <th>dis</th>\n",
       "      <th>rad</th>\n",
       "      <th>tax</th>\n",
       "      <th>ptratio</th>\n",
       "      <th>lstat</th>\n",
       "      <th>medv</th>\n",
       "    </tr>\n",
       "  </thead>\n",
       "  <tbody>\n",
       "    <tr>\n",
       "      <th>501</th>\n",
       "      <td>0.06263</td>\n",
       "      <td>0.0</td>\n",
       "      <td>11.93</td>\n",
       "      <td>0</td>\n",
       "      <td>0.573</td>\n",
       "      <td>6.593</td>\n",
       "      <td>69.1</td>\n",
       "      <td>2.4786</td>\n",
       "      <td>1</td>\n",
       "      <td>273</td>\n",
       "      <td>21.0</td>\n",
       "      <td>9.67</td>\n",
       "      <td>22.4</td>\n",
       "    </tr>\n",
       "    <tr>\n",
       "      <th>502</th>\n",
       "      <td>0.04527</td>\n",
       "      <td>0.0</td>\n",
       "      <td>11.93</td>\n",
       "      <td>0</td>\n",
       "      <td>0.573</td>\n",
       "      <td>6.120</td>\n",
       "      <td>76.7</td>\n",
       "      <td>2.2875</td>\n",
       "      <td>1</td>\n",
       "      <td>273</td>\n",
       "      <td>21.0</td>\n",
       "      <td>9.08</td>\n",
       "      <td>20.6</td>\n",
       "    </tr>\n",
       "    <tr>\n",
       "      <th>503</th>\n",
       "      <td>0.06076</td>\n",
       "      <td>0.0</td>\n",
       "      <td>11.93</td>\n",
       "      <td>0</td>\n",
       "      <td>0.573</td>\n",
       "      <td>6.976</td>\n",
       "      <td>91.0</td>\n",
       "      <td>2.1675</td>\n",
       "      <td>1</td>\n",
       "      <td>273</td>\n",
       "      <td>21.0</td>\n",
       "      <td>5.64</td>\n",
       "      <td>23.9</td>\n",
       "    </tr>\n",
       "    <tr>\n",
       "      <th>504</th>\n",
       "      <td>0.10959</td>\n",
       "      <td>0.0</td>\n",
       "      <td>11.93</td>\n",
       "      <td>0</td>\n",
       "      <td>0.573</td>\n",
       "      <td>6.794</td>\n",
       "      <td>89.3</td>\n",
       "      <td>2.3889</td>\n",
       "      <td>1</td>\n",
       "      <td>273</td>\n",
       "      <td>21.0</td>\n",
       "      <td>6.48</td>\n",
       "      <td>22.0</td>\n",
       "    </tr>\n",
       "    <tr>\n",
       "      <th>505</th>\n",
       "      <td>0.04741</td>\n",
       "      <td>0.0</td>\n",
       "      <td>11.93</td>\n",
       "      <td>0</td>\n",
       "      <td>0.573</td>\n",
       "      <td>6.030</td>\n",
       "      <td>80.8</td>\n",
       "      <td>2.5050</td>\n",
       "      <td>1</td>\n",
       "      <td>273</td>\n",
       "      <td>21.0</td>\n",
       "      <td>7.88</td>\n",
       "      <td>11.9</td>\n",
       "    </tr>\n",
       "  </tbody>\n",
       "</table>\n",
       "</div>"
      ],
      "text/plain": [
       "        crim   zn  indus  chas    nox     rm   age     dis  rad  tax  ptratio  \\\n",
       "501  0.06263  0.0  11.93     0  0.573  6.593  69.1  2.4786    1  273     21.0   \n",
       "502  0.04527  0.0  11.93     0  0.573  6.120  76.7  2.2875    1  273     21.0   \n",
       "503  0.06076  0.0  11.93     0  0.573  6.976  91.0  2.1675    1  273     21.0   \n",
       "504  0.10959  0.0  11.93     0  0.573  6.794  89.3  2.3889    1  273     21.0   \n",
       "505  0.04741  0.0  11.93     0  0.573  6.030  80.8  2.5050    1  273     21.0   \n",
       "\n",
       "     lstat  medv  \n",
       "501   9.67  22.4  \n",
       "502   9.08  20.6  \n",
       "503   5.64  23.9  \n",
       "504   6.48  22.0  \n",
       "505   7.88  11.9  "
      ]
     },
     "execution_count": 3,
     "metadata": {},
     "output_type": "execute_result"
    }
   ],
   "source": [
    "Boston = load_data(\"Boston\")\n",
    "Boston.tail(5)"
   ]
  },
  {
   "cell_type": "markdown",
   "metadata": {},
   "source": [
    "***\n",
    "#### (a) Let's compute $\\hat{\\mu}$, an estimate for the population mean of medv data"
   ]
  },
  {
   "cell_type": "code",
   "execution_count": 4,
   "metadata": {},
   "outputs": [
    {
     "name": "stdout",
     "output_type": "stream",
     "text": [
      "An Estimate for the Population Mean of medv data: 22.53281\n"
     ]
    }
   ],
   "source": [
    "medv_mean = Boston['medv'].mean()\n",
    "print(f\"An Estimate for the Population Mean of medv data: {medv_mean:.5f}\")"
   ]
  },
  {
   "cell_type": "markdown",
   "metadata": {},
   "source": [
    "***\n",
    "#### (b) Let's compute an estimate of the standard error of $\\hat{\\mu}$,which is $SE(\\overline{X})=\\frac{s}{\\sqrt[]{n}}$\n",
    "\n",
    "The standard error reflect how accurate an estimate of the mean is.  \n",
    "To be more specific, a smaller standard error indicates that the sample mean is closer to the population mean.  \n",
    "In this case, a value of 0.40886 so we can that the estimate of the mean is relatively accurate."
   ]
  },
  {
   "cell_type": "code",
   "execution_count": 5,
   "metadata": {},
   "outputs": [
    {
     "name": "stdout",
     "output_type": "stream",
     "text": [
      "An Estimate of the Standard Error of mu hat: 0.40886\n"
     ]
    }
   ],
   "source": [
    "medv_se = Boston['medv'].std() / np.sqrt(Boston['medv'].count())\n",
    "print(f\"An Estimate of the Standard Error of mu hat: {medv_se:.5f}\")"
   ]
  },
  {
   "cell_type": "markdown",
   "metadata": {},
   "source": [
    "***\n",
    "#### (c) Let's estimate the standard error of $\\hat{\\mu}$ using bootstrap\n",
    "\n",
    "\n",
    "First, this generates bootstrap samples from the original data D, the Boston data.  \n",
    "And I applied a function sample_mean to each sample, which returns mean of random samples.  \n",
    "Finally, the boot_SE returns an estimate of standard error of mu hat by  calculating the standard error from the results.\n",
    "\n",
    "\n",
    "So, an estimate of standard error of $\\hat{\\mu}$ by using boostrap is bigger than those gained from (b).  \n",
    "This is because the bootstrap make samples randomly from the original data, which can lead to additional variability."
   ]
  },
  {
   "cell_type": "code",
   "execution_count": 7,
   "metadata": {},
   "outputs": [
    {
     "name": "stdout",
     "output_type": "stream",
     "text": [
      "An Estimate of the Standard Error of mu hat by using Bootstrap: 0.41253\n",
      "An Estimate of the Standard Error of mu hat from (b): 0.40886\n"
     ]
    }
   ],
   "source": [
    "def sample_mean(D, idx):\n",
    "    return D['medv'].loc[idx].mean()\n",
    "\n",
    "def boot_SE(func, D, n=None, B=1000, seed=0):\n",
    "    rng = np.random.default_rng(seed)\n",
    "    first_, second_ = 0, 0\n",
    "    n = n or D.shape[0]\n",
    "    for _ in range(B):\n",
    "        idx = rng.choice(D.index, n, replace=True)\n",
    "        value = func(D, idx)\n",
    "        first_ += value\n",
    "        second_ += value**2\n",
    "    return np.sqrt(second_ / B - (first_ / B)**2)\n",
    "\n",
    "medv_se_bootstrap = boot_SE(sample_mean, Boston, n=None, B=1000, seed=0)\n",
    "\n",
    "\n",
    "print(f\"An Estimate of the Standard Error of mu hat by using Bootstrap: {medv_se_bootstrap:.5f}\")\n",
    "print(f\"An Estimate of the Standard Error of mu hat from (b): {medv_se:.5f}\")"
   ]
  },
  {
   "cell_type": "markdown",
   "metadata": {},
   "source": [
    "***\n",
    "#### (d) Let's provide 95% confidence interval for $\\hat{\\mu}$, the mean of medv.\n",
    "\n",
    "The confidence intervals from both methods are quite alike, showing that the bootstrap method might be a good way to estimate confidence intervals for this data.  \n",
    "Also, because both intervals include $\\hat{\\mu}=22.53281$, an estimate for the population mean of medv, it suggests that those intervals are meaningful."
   ]
  },
  {
   "cell_type": "code",
   "execution_count": 11,
   "metadata": {},
   "outputs": [
    {
     "name": "stdout",
     "output_type": "stream",
     "text": [
      "95% Confidence Interval by using Bootstrap: [21.72403, 23.37417]\n",
      "95% Confidence Interval by using Boston['medv'].std(): [21.71508, 23.35053]\n"
     ]
    }
   ],
   "source": [
    "#95% confidence interval\n",
    "def bootstrap_mean(func, D, n=None, B=1000, seed=0):\n",
    "    rng = np.random.default_rng(seed)\n",
    "    means = []\n",
    "    n = n or D.shape[0]\n",
    "    for _ in range(B):\n",
    "        idx = rng.choice(D.index, n, replace=True)\n",
    "        means.append(func(D, idx))\n",
    "    return np.mean(means)\n",
    "\n",
    "medv_mean_bootstrap = bootstrap_mean(sample_mean, Boston, n=None, B=1000, seed=0)\n",
    "\n",
    "conf_interval_bootstrap = [medv_mean_bootstrap - 2*medv_se_bootstrap, medv_mean_bootstrap+ 2*medv_se_bootstrap]\n",
    "conf_interval_by_std = [medv_mean - 2*medv_se, medv_mean + 2*medv_se]\n",
    "\n",
    "print(f\"95% Confidence Interval by using Bootstrap: [{conf_interval_bootstrap[0]:.5f}, {conf_interval_bootstrap[1]:.5f}]\")\n",
    "print(f\"95% Confidence Interval by using Boston['medv'].std(): [{conf_interval_by_std[0]:.5f}, {conf_interval_by_std[1]:.5f}]\")"
   ]
  },
  {
   "cell_type": "markdown",
   "metadata": {},
   "source": [
    "***\n",
    "#### (e) Let's estimate $\\hat\\mu_{med}$ for the median value of medv in the population"
   ]
  },
  {
   "cell_type": "code",
   "execution_count": 98,
   "metadata": {},
   "outputs": [
    {
     "name": "stdout",
     "output_type": "stream",
     "text": [
      "An estimate of the median value of medv data: 21.20000\n"
     ]
    }
   ],
   "source": [
    "medv_med = Boston['medv'].median()\n",
    "print(f\"An estimate of the median value of medv data: {medv_med:.5f}\")"
   ]
  },
  {
   "cell_type": "markdown",
   "metadata": {},
   "source": [
    "***\n",
    "#### (f) Let's estimate the standard error of $\\hat\\mu_{med}$ using boostrap\n",
    "\n",
    "Since I already made boot_SE function previously for (c), all I need to do is just making a new definition of sample_median function that returns the median value of random samples.  \n",
    "\n",
    "I found that an estimate of the standard error of median $\\hat\\mu$ by using Bootstrap is 0.36945, which is significantly small.  \n",
    "This means that the sample median is likely near the median of the population."
   ]
  },
  {
   "cell_type": "code",
   "execution_count": 111,
   "metadata": {},
   "outputs": [
    {
     "name": "stdout",
     "output_type": "stream",
     "text": [
      "An Estimate of the Standard Error of median mu hat by using Bootstrap: 0.36945\n"
     ]
    }
   ],
   "source": [
    "def sample_median(D, idx):\n",
    "    return D['medv'].loc[idx].median()\n",
    "\n",
    "# Using boot_SE to estimate the standard error of the median.\n",
    "medv_median_se_bootstrap = boot_SE(sample_median, Boston, n=None, B=1000, seed=0)\n",
    "\n",
    "print(f\"An Estimate of the Standard Error of median mu hat by using Bootstrap: {medv_median_se_bootstrap:.5f}\")\n"
   ]
  },
  {
   "cell_type": "markdown",
   "metadata": {},
   "source": [
    "***\n",
    "#### (g) Let's compute an estimate for $\\hat\\mu_{0,1}$, the tenth percentile of medv"
   ]
  },
  {
   "cell_type": "code",
   "execution_count": 105,
   "metadata": {},
   "outputs": [
    {
     "name": "stdout",
     "output_type": "stream",
     "text": [
      "An Estimate of the 10th percentile of medv: 12.75000\n"
     ]
    }
   ],
   "source": [
    "medv_10th_percentile = np.percentile(Boston['medv'], 10)\n",
    "print(f\"An Estimate of the 10th Percentile of medv: {medv_10th_percentile:.5f}\")"
   ]
  },
  {
   "cell_type": "markdown",
   "metadata": {},
   "source": [
    "***\n",
    "#### (h) Let's estimate the standard error of $\\hat\\mu_{0,1}$, the tenth percentile of medv\n",
    "This is also similar to the problem (f), so all I need to do is just making a new definition of sample_10th_percentile function that returns the tenth percentile of medv for random samples.\n",
    "\n",
    "After running this code, I found that an estimate of the standard error of $\\hat\\mu_{0,1}$ by using Bootstrap is 0.50345, which is significantly small.  \n",
    "The interpretation of this is silmilar to the previous problems, so this means that the 10th percentile of medv in our data set is close to the 10th percentile in the population."
   ]
  },
  {
   "cell_type": "code",
   "execution_count": 109,
   "metadata": {},
   "outputs": [
    {
     "name": "stdout",
     "output_type": "stream",
     "text": [
      "An estimate of the Standard Error of the 10th Percentile using Bootstrap: 0.50345\n"
     ]
    }
   ],
   "source": [
    "def sample_10th_percentile(D, idx):\n",
    "    return np.percentile(D['medv'].loc[idx], 10)\n",
    "\n",
    "# Using boot_SE to estimate the standard error of the 10th percentile.\n",
    "medv_10th_percentile_se_bootstrap = boot_SE(sample_10th_percentile, Boston, n=None, B=1000, seed=0)\n",
    "\n",
    "print(f\"An estimate of the Standard Error of the 10th Percentile using Bootstrap: {medv_10th_percentile_se_bootstrap:.5f}\")\n"
   ]
  },
  {
   "cell_type": "code",
   "execution_count": null,
   "metadata": {},
   "outputs": [],
   "source": []
  }
 ],
 "metadata": {
  "kernelspec": {
   "display_name": "Python 3.9.0 ('mldl')",
   "language": "python",
   "name": "python3"
  },
  "language_info": {
   "codemirror_mode": {
    "name": "ipython",
    "version": 3
   },
   "file_extension": ".py",
   "mimetype": "text/x-python",
   "name": "python",
   "nbconvert_exporter": "python",
   "pygments_lexer": "ipython3",
   "version": "3.11.4"
  },
  "orig_nbformat": 4,
  "vscode": {
   "interpreter": {
    "hash": "25fee887371aaedbb3b519597dcb211f2059b111bff19ae73f9f5911908deb0c"
   }
  }
 },
 "nbformat": 4,
 "nbformat_minor": 2
}
